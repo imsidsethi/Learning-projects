{
 "cells": [
  {
   "cell_type": "code",
   "execution_count": 580,
   "metadata": {},
   "outputs": [],
   "source": [
    "import numpy as np\n",
    "import pandas as pd\n",
    "from sklearn.linear_model import LogisticRegression\n",
    "from sklearn.naive_bayes import GaussianNB\n",
    "from sklearn.svm import SVC\n",
    "from sklearn.tree import DecisionTreeClassifier\n",
    "from sklearn.model_selection import train_test_split\n",
    "from sklearn.metrics import accuracy_score,confusion_matrix,classification_report"
   ]
  },
  {
   "cell_type": "code",
   "execution_count": 581,
   "metadata": {},
   "outputs": [
    {
     "data": {
      "text/html": [
       "<div>\n",
       "<style scoped>\n",
       "    .dataframe tbody tr th:only-of-type {\n",
       "        vertical-align: middle;\n",
       "    }\n",
       "\n",
       "    .dataframe tbody tr th {\n",
       "        vertical-align: top;\n",
       "    }\n",
       "\n",
       "    .dataframe thead th {\n",
       "        text-align: right;\n",
       "    }\n",
       "</style>\n",
       "<table border=\"1\" class=\"dataframe\">\n",
       "  <thead>\n",
       "    <tr style=\"text-align: right;\">\n",
       "      <th></th>\n",
       "      <th>0</th>\n",
       "      <th>1</th>\n",
       "      <th>2</th>\n",
       "      <th>3</th>\n",
       "      <th>4</th>\n",
       "      <th>5</th>\n",
       "      <th>6</th>\n",
       "      <th>7</th>\n",
       "      <th>8</th>\n",
       "      <th>9</th>\n",
       "      <th>...</th>\n",
       "      <th>51</th>\n",
       "      <th>52</th>\n",
       "      <th>53</th>\n",
       "      <th>54</th>\n",
       "      <th>55</th>\n",
       "      <th>56</th>\n",
       "      <th>57</th>\n",
       "      <th>58</th>\n",
       "      <th>59</th>\n",
       "      <th>60</th>\n",
       "    </tr>\n",
       "  </thead>\n",
       "  <tbody>\n",
       "    <tr>\n",
       "      <th>0</th>\n",
       "      <td>0.0200</td>\n",
       "      <td>0.0371</td>\n",
       "      <td>0.0428</td>\n",
       "      <td>0.0207</td>\n",
       "      <td>0.0954</td>\n",
       "      <td>0.0986</td>\n",
       "      <td>0.1539</td>\n",
       "      <td>0.1601</td>\n",
       "      <td>0.3109</td>\n",
       "      <td>0.2111</td>\n",
       "      <td>...</td>\n",
       "      <td>0.0027</td>\n",
       "      <td>0.0065</td>\n",
       "      <td>0.0159</td>\n",
       "      <td>0.0072</td>\n",
       "      <td>0.0167</td>\n",
       "      <td>0.0180</td>\n",
       "      <td>0.0084</td>\n",
       "      <td>0.0090</td>\n",
       "      <td>0.0032</td>\n",
       "      <td>R</td>\n",
       "    </tr>\n",
       "    <tr>\n",
       "      <th>1</th>\n",
       "      <td>0.0453</td>\n",
       "      <td>0.0523</td>\n",
       "      <td>0.0843</td>\n",
       "      <td>0.0689</td>\n",
       "      <td>0.1183</td>\n",
       "      <td>0.2583</td>\n",
       "      <td>0.2156</td>\n",
       "      <td>0.3481</td>\n",
       "      <td>0.3337</td>\n",
       "      <td>0.2872</td>\n",
       "      <td>...</td>\n",
       "      <td>0.0084</td>\n",
       "      <td>0.0089</td>\n",
       "      <td>0.0048</td>\n",
       "      <td>0.0094</td>\n",
       "      <td>0.0191</td>\n",
       "      <td>0.0140</td>\n",
       "      <td>0.0049</td>\n",
       "      <td>0.0052</td>\n",
       "      <td>0.0044</td>\n",
       "      <td>R</td>\n",
       "    </tr>\n",
       "    <tr>\n",
       "      <th>2</th>\n",
       "      <td>0.0262</td>\n",
       "      <td>0.0582</td>\n",
       "      <td>0.1099</td>\n",
       "      <td>0.1083</td>\n",
       "      <td>0.0974</td>\n",
       "      <td>0.2280</td>\n",
       "      <td>0.2431</td>\n",
       "      <td>0.3771</td>\n",
       "      <td>0.5598</td>\n",
       "      <td>0.6194</td>\n",
       "      <td>...</td>\n",
       "      <td>0.0232</td>\n",
       "      <td>0.0166</td>\n",
       "      <td>0.0095</td>\n",
       "      <td>0.0180</td>\n",
       "      <td>0.0244</td>\n",
       "      <td>0.0316</td>\n",
       "      <td>0.0164</td>\n",
       "      <td>0.0095</td>\n",
       "      <td>0.0078</td>\n",
       "      <td>R</td>\n",
       "    </tr>\n",
       "    <tr>\n",
       "      <th>3</th>\n",
       "      <td>0.0100</td>\n",
       "      <td>0.0171</td>\n",
       "      <td>0.0623</td>\n",
       "      <td>0.0205</td>\n",
       "      <td>0.0205</td>\n",
       "      <td>0.0368</td>\n",
       "      <td>0.1098</td>\n",
       "      <td>0.1276</td>\n",
       "      <td>0.0598</td>\n",
       "      <td>0.1264</td>\n",
       "      <td>...</td>\n",
       "      <td>0.0121</td>\n",
       "      <td>0.0036</td>\n",
       "      <td>0.0150</td>\n",
       "      <td>0.0085</td>\n",
       "      <td>0.0073</td>\n",
       "      <td>0.0050</td>\n",
       "      <td>0.0044</td>\n",
       "      <td>0.0040</td>\n",
       "      <td>0.0117</td>\n",
       "      <td>R</td>\n",
       "    </tr>\n",
       "    <tr>\n",
       "      <th>4</th>\n",
       "      <td>0.0762</td>\n",
       "      <td>0.0666</td>\n",
       "      <td>0.0481</td>\n",
       "      <td>0.0394</td>\n",
       "      <td>0.0590</td>\n",
       "      <td>0.0649</td>\n",
       "      <td>0.1209</td>\n",
       "      <td>0.2467</td>\n",
       "      <td>0.3564</td>\n",
       "      <td>0.4459</td>\n",
       "      <td>...</td>\n",
       "      <td>0.0031</td>\n",
       "      <td>0.0054</td>\n",
       "      <td>0.0105</td>\n",
       "      <td>0.0110</td>\n",
       "      <td>0.0015</td>\n",
       "      <td>0.0072</td>\n",
       "      <td>0.0048</td>\n",
       "      <td>0.0107</td>\n",
       "      <td>0.0094</td>\n",
       "      <td>R</td>\n",
       "    </tr>\n",
       "  </tbody>\n",
       "</table>\n",
       "<p>5 rows × 61 columns</p>\n",
       "</div>"
      ],
      "text/plain": [
       "       0       1       2       3       4       5       6       7       8   \\\n",
       "0  0.0200  0.0371  0.0428  0.0207  0.0954  0.0986  0.1539  0.1601  0.3109   \n",
       "1  0.0453  0.0523  0.0843  0.0689  0.1183  0.2583  0.2156  0.3481  0.3337   \n",
       "2  0.0262  0.0582  0.1099  0.1083  0.0974  0.2280  0.2431  0.3771  0.5598   \n",
       "3  0.0100  0.0171  0.0623  0.0205  0.0205  0.0368  0.1098  0.1276  0.0598   \n",
       "4  0.0762  0.0666  0.0481  0.0394  0.0590  0.0649  0.1209  0.2467  0.3564   \n",
       "\n",
       "       9   ...      51      52      53      54      55      56      57  \\\n",
       "0  0.2111  ...  0.0027  0.0065  0.0159  0.0072  0.0167  0.0180  0.0084   \n",
       "1  0.2872  ...  0.0084  0.0089  0.0048  0.0094  0.0191  0.0140  0.0049   \n",
       "2  0.6194  ...  0.0232  0.0166  0.0095  0.0180  0.0244  0.0316  0.0164   \n",
       "3  0.1264  ...  0.0121  0.0036  0.0150  0.0085  0.0073  0.0050  0.0044   \n",
       "4  0.4459  ...  0.0031  0.0054  0.0105  0.0110  0.0015  0.0072  0.0048   \n",
       "\n",
       "       58      59  60  \n",
       "0  0.0090  0.0032   R  \n",
       "1  0.0052  0.0044   R  \n",
       "2  0.0095  0.0078   R  \n",
       "3  0.0040  0.0117   R  \n",
       "4  0.0107  0.0094   R  \n",
       "\n",
       "[5 rows x 61 columns]"
      ]
     },
     "execution_count": 581,
     "metadata": {},
     "output_type": "execute_result"
    }
   ],
   "source": [
    "df=pd.read_csv('sonar.csv',names=range(0,61))\n",
    "df.head()"
   ]
  },
  {
   "cell_type": "code",
   "execution_count": 582,
   "metadata": {},
   "outputs": [
    {
     "data": {
      "text/plain": [
       "(208, 61)"
      ]
     },
     "execution_count": 582,
     "metadata": {},
     "output_type": "execute_result"
    }
   ],
   "source": [
    "df.shape\n"
   ]
  },
  {
   "cell_type": "code",
   "execution_count": 583,
   "metadata": {},
   "outputs": [
    {
     "data": {
      "text/plain": [
       "(208, 60)"
      ]
     },
     "execution_count": 583,
     "metadata": {},
     "output_type": "execute_result"
    }
   ],
   "source": [
    "x=df.iloc[:,0:-1]\n",
    "x.shape"
   ]
  },
  {
   "cell_type": "code",
   "execution_count": 584,
   "metadata": {},
   "outputs": [
    {
     "data": {
      "text/plain": [
       "(208,)"
      ]
     },
     "execution_count": 584,
     "metadata": {},
     "output_type": "execute_result"
    }
   ],
   "source": [
    "y=df.iloc[:,-1]\n",
    "y.shape"
   ]
  },
  {
   "cell_type": "code",
   "execution_count": 585,
   "metadata": {},
   "outputs": [],
   "source": [
    "from sklearn.decomposition import PCA"
   ]
  },
  {
   "cell_type": "code",
   "execution_count": 586,
   "metadata": {},
   "outputs": [],
   "source": [
    "pca=PCA(n_components=10)"
   ]
  },
  {
   "cell_type": "code",
   "execution_count": 587,
   "metadata": {},
   "outputs": [],
   "source": [
    "x=pca.fit_transform(x)"
   ]
  },
  {
   "cell_type": "code",
   "execution_count": 588,
   "metadata": {},
   "outputs": [
    {
     "data": {
      "text/plain": [
       "(208, 10)"
      ]
     },
     "execution_count": 588,
     "metadata": {},
     "output_type": "execute_result"
    }
   ],
   "source": [
    "x.shape"
   ]
  },
  {
   "cell_type": "code",
   "execution_count": 589,
   "metadata": {},
   "outputs": [
    {
     "data": {
      "text/html": [
       "<div>\n",
       "<style scoped>\n",
       "    .dataframe tbody tr th:only-of-type {\n",
       "        vertical-align: middle;\n",
       "    }\n",
       "\n",
       "    .dataframe tbody tr th {\n",
       "        vertical-align: top;\n",
       "    }\n",
       "\n",
       "    .dataframe thead th {\n",
       "        text-align: right;\n",
       "    }\n",
       "</style>\n",
       "<table border=\"1\" class=\"dataframe\">\n",
       "  <thead>\n",
       "    <tr style=\"text-align: right;\">\n",
       "      <th></th>\n",
       "      <th>0</th>\n",
       "      <th>1</th>\n",
       "      <th>2</th>\n",
       "      <th>3</th>\n",
       "      <th>4</th>\n",
       "      <th>5</th>\n",
       "      <th>6</th>\n",
       "      <th>7</th>\n",
       "      <th>8</th>\n",
       "      <th>9</th>\n",
       "    </tr>\n",
       "  </thead>\n",
       "  <tbody>\n",
       "    <tr>\n",
       "      <th>0</th>\n",
       "      <td>0.576093</td>\n",
       "      <td>0.319393</td>\n",
       "      <td>-0.387291</td>\n",
       "      <td>-0.378009</td>\n",
       "      <td>-0.243780</td>\n",
       "      <td>-0.156243</td>\n",
       "      <td>-0.427736</td>\n",
       "      <td>0.074832</td>\n",
       "      <td>-0.024347</td>\n",
       "      <td>0.318054</td>\n",
       "    </tr>\n",
       "    <tr>\n",
       "      <th>1</th>\n",
       "      <td>-0.970667</td>\n",
       "      <td>1.018039</td>\n",
       "      <td>0.834156</td>\n",
       "      <td>0.107423</td>\n",
       "      <td>0.286070</td>\n",
       "      <td>0.178684</td>\n",
       "      <td>-0.260332</td>\n",
       "      <td>0.385600</td>\n",
       "      <td>-0.004030</td>\n",
       "      <td>-0.072529</td>\n",
       "    </tr>\n",
       "    <tr>\n",
       "      <th>2</th>\n",
       "      <td>-0.325887</td>\n",
       "      <td>0.874209</td>\n",
       "      <td>0.246015</td>\n",
       "      <td>0.863031</td>\n",
       "      <td>0.069110</td>\n",
       "      <td>-0.300833</td>\n",
       "      <td>-0.412807</td>\n",
       "      <td>0.075321</td>\n",
       "      <td>-0.010855</td>\n",
       "      <td>-0.438559</td>\n",
       "    </tr>\n",
       "    <tr>\n",
       "      <th>3</th>\n",
       "      <td>0.852035</td>\n",
       "      <td>0.690863</td>\n",
       "      <td>-0.013390</td>\n",
       "      <td>-0.110257</td>\n",
       "      <td>-0.554050</td>\n",
       "      <td>0.397968</td>\n",
       "      <td>0.492569</td>\n",
       "      <td>-0.220460</td>\n",
       "      <td>0.537003</td>\n",
       "      <td>-0.436795</td>\n",
       "    </tr>\n",
       "    <tr>\n",
       "      <th>4</th>\n",
       "      <td>-0.064756</td>\n",
       "      <td>0.222968</td>\n",
       "      <td>0.638601</td>\n",
       "      <td>0.140432</td>\n",
       "      <td>0.135854</td>\n",
       "      <td>0.052881</td>\n",
       "      <td>-0.386558</td>\n",
       "      <td>0.066549</td>\n",
       "      <td>-0.117006</td>\n",
       "      <td>-0.419277</td>\n",
       "    </tr>\n",
       "    <tr>\n",
       "      <th>...</th>\n",
       "      <td>...</td>\n",
       "      <td>...</td>\n",
       "      <td>...</td>\n",
       "      <td>...</td>\n",
       "      <td>...</td>\n",
       "      <td>...</td>\n",
       "      <td>...</td>\n",
       "      <td>...</td>\n",
       "      <td>...</td>\n",
       "      <td>...</td>\n",
       "    </tr>\n",
       "    <tr>\n",
       "      <th>203</th>\n",
       "      <td>0.041781</td>\n",
       "      <td>-1.031644</td>\n",
       "      <td>0.265669</td>\n",
       "      <td>0.021516</td>\n",
       "      <td>-0.015439</td>\n",
       "      <td>0.097304</td>\n",
       "      <td>0.003784</td>\n",
       "      <td>0.177926</td>\n",
       "      <td>-0.027908</td>\n",
       "      <td>-0.264179</td>\n",
       "    </tr>\n",
       "    <tr>\n",
       "      <th>204</th>\n",
       "      <td>0.219149</td>\n",
       "      <td>-1.153807</td>\n",
       "      <td>0.203619</td>\n",
       "      <td>0.045836</td>\n",
       "      <td>0.183272</td>\n",
       "      <td>0.012770</td>\n",
       "      <td>0.078507</td>\n",
       "      <td>0.264831</td>\n",
       "      <td>0.070749</td>\n",
       "      <td>-0.303296</td>\n",
       "    </tr>\n",
       "    <tr>\n",
       "      <th>205</th>\n",
       "      <td>0.297733</td>\n",
       "      <td>-1.151860</td>\n",
       "      <td>0.250096</td>\n",
       "      <td>-0.057702</td>\n",
       "      <td>0.163566</td>\n",
       "      <td>0.015275</td>\n",
       "      <td>0.045792</td>\n",
       "      <td>0.225904</td>\n",
       "      <td>0.072130</td>\n",
       "      <td>-0.313044</td>\n",
       "    </tr>\n",
       "    <tr>\n",
       "      <th>206</th>\n",
       "      <td>-0.045761</td>\n",
       "      <td>-0.995970</td>\n",
       "      <td>0.199677</td>\n",
       "      <td>-0.066516</td>\n",
       "      <td>-0.147227</td>\n",
       "      <td>-0.084600</td>\n",
       "      <td>0.031038</td>\n",
       "      <td>0.067444</td>\n",
       "      <td>0.025771</td>\n",
       "      <td>-0.171120</td>\n",
       "    </tr>\n",
       "    <tr>\n",
       "      <th>207</th>\n",
       "      <td>-0.051115</td>\n",
       "      <td>-0.912526</td>\n",
       "      <td>0.008910</td>\n",
       "      <td>-0.044387</td>\n",
       "      <td>-0.027915</td>\n",
       "      <td>-0.029949</td>\n",
       "      <td>0.033107</td>\n",
       "      <td>-0.020868</td>\n",
       "      <td>-0.118992</td>\n",
       "      <td>-0.144134</td>\n",
       "    </tr>\n",
       "  </tbody>\n",
       "</table>\n",
       "<p>208 rows × 10 columns</p>\n",
       "</div>"
      ],
      "text/plain": [
       "            0         1         2         3         4         5         6  \\\n",
       "0    0.576093  0.319393 -0.387291 -0.378009 -0.243780 -0.156243 -0.427736   \n",
       "1   -0.970667  1.018039  0.834156  0.107423  0.286070  0.178684 -0.260332   \n",
       "2   -0.325887  0.874209  0.246015  0.863031  0.069110 -0.300833 -0.412807   \n",
       "3    0.852035  0.690863 -0.013390 -0.110257 -0.554050  0.397968  0.492569   \n",
       "4   -0.064756  0.222968  0.638601  0.140432  0.135854  0.052881 -0.386558   \n",
       "..        ...       ...       ...       ...       ...       ...       ...   \n",
       "203  0.041781 -1.031644  0.265669  0.021516 -0.015439  0.097304  0.003784   \n",
       "204  0.219149 -1.153807  0.203619  0.045836  0.183272  0.012770  0.078507   \n",
       "205  0.297733 -1.151860  0.250096 -0.057702  0.163566  0.015275  0.045792   \n",
       "206 -0.045761 -0.995970  0.199677 -0.066516 -0.147227 -0.084600  0.031038   \n",
       "207 -0.051115 -0.912526  0.008910 -0.044387 -0.027915 -0.029949  0.033107   \n",
       "\n",
       "            7         8         9  \n",
       "0    0.074832 -0.024347  0.318054  \n",
       "1    0.385600 -0.004030 -0.072529  \n",
       "2    0.075321 -0.010855 -0.438559  \n",
       "3   -0.220460  0.537003 -0.436795  \n",
       "4    0.066549 -0.117006 -0.419277  \n",
       "..        ...       ...       ...  \n",
       "203  0.177926 -0.027908 -0.264179  \n",
       "204  0.264831  0.070749 -0.303296  \n",
       "205  0.225904  0.072130 -0.313044  \n",
       "206  0.067444  0.025771 -0.171120  \n",
       "207 -0.020868 -0.118992 -0.144134  \n",
       "\n",
       "[208 rows x 10 columns]"
      ]
     },
     "execution_count": 589,
     "metadata": {},
     "output_type": "execute_result"
    }
   ],
   "source": [
    "xd=pd.DataFrame(data=x)\n",
    "xd"
   ]
  },
  {
   "cell_type": "code",
   "execution_count": 590,
   "metadata": {},
   "outputs": [],
   "source": [
    "from sklearn.preprocessing import LabelEncoder"
   ]
  },
  {
   "cell_type": "code",
   "execution_count": 591,
   "metadata": {},
   "outputs": [
    {
     "data": {
      "text/plain": [
       "array([1, 1, 1, 1, 1, 1, 1, 1, 1, 1, 1, 1, 1, 1, 1, 1, 1, 1, 1, 1, 1, 1,\n",
       "       1, 1, 1, 1, 1, 1, 1, 1, 1, 1, 1, 1, 1, 1, 1, 1, 1, 1, 1, 1, 1, 1,\n",
       "       1, 1, 1, 1, 1, 1, 1, 1, 1, 1, 1, 1, 1, 1, 1, 1, 1, 1, 1, 1, 1, 1,\n",
       "       1, 1, 1, 1, 1, 1, 1, 1, 1, 1, 1, 1, 1, 1, 1, 1, 1, 1, 1, 1, 1, 1,\n",
       "       1, 1, 1, 1, 1, 1, 1, 1, 1, 0, 0, 0, 0, 0, 0, 0, 0, 0, 0, 0, 0, 0,\n",
       "       0, 0, 0, 0, 0, 0, 0, 0, 0, 0, 0, 0, 0, 0, 0, 0, 0, 0, 0, 0, 0, 0,\n",
       "       0, 0, 0, 0, 0, 0, 0, 0, 0, 0, 0, 0, 0, 0, 0, 0, 0, 0, 0, 0, 0, 0,\n",
       "       0, 0, 0, 0, 0, 0, 0, 0, 0, 0, 0, 0, 0, 0, 0, 0, 0, 0, 0, 0, 0, 0,\n",
       "       0, 0, 0, 0, 0, 0, 0, 0, 0, 0, 0, 0, 0, 0, 0, 0, 0, 0, 0, 0, 0, 0,\n",
       "       0, 0, 0, 0, 0, 0, 0, 0, 0, 0])"
      ]
     },
     "execution_count": 591,
     "metadata": {},
     "output_type": "execute_result"
    }
   ],
   "source": [
    "le=LabelEncoder()\n",
    "y=le.fit_transform(y)\n",
    "y"
   ]
  },
  {
   "cell_type": "code",
   "execution_count": 592,
   "metadata": {},
   "outputs": [],
   "source": [
    "import seaborn as sns"
   ]
  },
  {
   "cell_type": "code",
   "execution_count": 593,
   "metadata": {},
   "outputs": [
    {
     "data": {
      "text/plain": [
       "0    float64\n",
       "1    float64\n",
       "2    float64\n",
       "3    float64\n",
       "4    float64\n",
       "5    float64\n",
       "6    float64\n",
       "7    float64\n",
       "8    float64\n",
       "9    float64\n",
       "dtype: object"
      ]
     },
     "execution_count": 593,
     "metadata": {},
     "output_type": "execute_result"
    }
   ],
   "source": [
    "xd.dtypes"
   ]
  },
  {
   "cell_type": "code",
   "execution_count": 594,
   "metadata": {},
   "outputs": [
    {
     "data": {
      "text/plain": [
       "0    0\n",
       "1    0\n",
       "2    0\n",
       "3    0\n",
       "4    0\n",
       "5    0\n",
       "6    0\n",
       "7    0\n",
       "8    0\n",
       "9    0\n",
       "dtype: int64"
      ]
     },
     "execution_count": 594,
     "metadata": {},
     "output_type": "execute_result"
    }
   ],
   "source": [
    "xd.isnull().sum()"
   ]
  },
  {
   "cell_type": "code",
   "execution_count": 595,
   "metadata": {},
   "outputs": [
    {
     "data": {
      "text/plain": [
       "0    2\n",
       "dtype: int64"
      ]
     },
     "execution_count": 595,
     "metadata": {},
     "output_type": "execute_result"
    }
   ],
   "source": [
    "yd=pd.DataFrame(data=y)\n",
    "yd.nunique()"
   ]
  },
  {
   "cell_type": "code",
   "execution_count": 596,
   "metadata": {},
   "outputs": [],
   "source": [
    "from scipy.stats import zscore"
   ]
  },
  {
   "cell_type": "code",
   "execution_count": 597,
   "metadata": {},
   "outputs": [
    {
     "name": "stdout",
     "output_type": "stream",
     "text": [
      "(208, 10)\n",
      "(205, 10)\n"
     ]
    }
   ],
   "source": [
    "z_score=abs(zscore(xd))\n",
    "print(xd.shape)\n",
    "dffinal=xd.loc[(z_score<3).all(axis=1)]\n",
    "print(dffinal.shape)"
   ]
  },
  {
   "cell_type": "code",
   "execution_count": 598,
   "metadata": {},
   "outputs": [
    {
     "data": {
      "text/plain": [
       "0    0.177056\n",
       "1    0.403361\n",
       "2    0.179856\n",
       "3    0.437246\n",
       "4   -0.081498\n",
       "5    0.260802\n",
       "6    0.407128\n",
       "7    0.058413\n",
       "8   -0.223131\n",
       "9   -0.266651\n",
       "dtype: float64"
      ]
     },
     "execution_count": 598,
     "metadata": {},
     "output_type": "execute_result"
    }
   ],
   "source": [
    "xd.skew()"
   ]
  },
  {
   "cell_type": "code",
   "execution_count": 600,
   "metadata": {},
   "outputs": [
    {
     "data": {
      "text/html": [
       "<div>\n",
       "<style scoped>\n",
       "    .dataframe tbody tr th:only-of-type {\n",
       "        vertical-align: middle;\n",
       "    }\n",
       "\n",
       "    .dataframe tbody tr th {\n",
       "        vertical-align: top;\n",
       "    }\n",
       "\n",
       "    .dataframe thead th {\n",
       "        text-align: right;\n",
       "    }\n",
       "</style>\n",
       "<table border=\"1\" class=\"dataframe\">\n",
       "  <thead>\n",
       "    <tr style=\"text-align: right;\">\n",
       "      <th></th>\n",
       "      <th>0</th>\n",
       "      <th>1</th>\n",
       "      <th>2</th>\n",
       "      <th>3</th>\n",
       "      <th>4</th>\n",
       "      <th>5</th>\n",
       "      <th>6</th>\n",
       "      <th>7</th>\n",
       "      <th>8</th>\n",
       "      <th>9</th>\n",
       "      <th>0</th>\n",
       "    </tr>\n",
       "  </thead>\n",
       "  <tbody>\n",
       "    <tr>\n",
       "      <th>0</th>\n",
       "      <td>0.576093</td>\n",
       "      <td>0.319393</td>\n",
       "      <td>-0.387291</td>\n",
       "      <td>-0.378009</td>\n",
       "      <td>-0.243780</td>\n",
       "      <td>-0.156243</td>\n",
       "      <td>-0.427736</td>\n",
       "      <td>0.074832</td>\n",
       "      <td>-0.024347</td>\n",
       "      <td>0.318054</td>\n",
       "      <td>1</td>\n",
       "    </tr>\n",
       "    <tr>\n",
       "      <th>1</th>\n",
       "      <td>-0.970667</td>\n",
       "      <td>1.018039</td>\n",
       "      <td>0.834156</td>\n",
       "      <td>0.107423</td>\n",
       "      <td>0.286070</td>\n",
       "      <td>0.178684</td>\n",
       "      <td>-0.260332</td>\n",
       "      <td>0.385600</td>\n",
       "      <td>-0.004030</td>\n",
       "      <td>-0.072529</td>\n",
       "      <td>1</td>\n",
       "    </tr>\n",
       "    <tr>\n",
       "      <th>2</th>\n",
       "      <td>-0.325887</td>\n",
       "      <td>0.874209</td>\n",
       "      <td>0.246015</td>\n",
       "      <td>0.863031</td>\n",
       "      <td>0.069110</td>\n",
       "      <td>-0.300833</td>\n",
       "      <td>-0.412807</td>\n",
       "      <td>0.075321</td>\n",
       "      <td>-0.010855</td>\n",
       "      <td>-0.438559</td>\n",
       "      <td>1</td>\n",
       "    </tr>\n",
       "    <tr>\n",
       "      <th>3</th>\n",
       "      <td>0.852035</td>\n",
       "      <td>0.690863</td>\n",
       "      <td>-0.013390</td>\n",
       "      <td>-0.110257</td>\n",
       "      <td>-0.554050</td>\n",
       "      <td>0.397968</td>\n",
       "      <td>0.492569</td>\n",
       "      <td>-0.220460</td>\n",
       "      <td>0.537003</td>\n",
       "      <td>-0.436795</td>\n",
       "      <td>1</td>\n",
       "    </tr>\n",
       "    <tr>\n",
       "      <th>4</th>\n",
       "      <td>-0.064756</td>\n",
       "      <td>0.222968</td>\n",
       "      <td>0.638601</td>\n",
       "      <td>0.140432</td>\n",
       "      <td>0.135854</td>\n",
       "      <td>0.052881</td>\n",
       "      <td>-0.386558</td>\n",
       "      <td>0.066549</td>\n",
       "      <td>-0.117006</td>\n",
       "      <td>-0.419277</td>\n",
       "      <td>1</td>\n",
       "    </tr>\n",
       "    <tr>\n",
       "      <th>...</th>\n",
       "      <td>...</td>\n",
       "      <td>...</td>\n",
       "      <td>...</td>\n",
       "      <td>...</td>\n",
       "      <td>...</td>\n",
       "      <td>...</td>\n",
       "      <td>...</td>\n",
       "      <td>...</td>\n",
       "      <td>...</td>\n",
       "      <td>...</td>\n",
       "      <td>...</td>\n",
       "    </tr>\n",
       "    <tr>\n",
       "      <th>203</th>\n",
       "      <td>0.041781</td>\n",
       "      <td>-1.031644</td>\n",
       "      <td>0.265669</td>\n",
       "      <td>0.021516</td>\n",
       "      <td>-0.015439</td>\n",
       "      <td>0.097304</td>\n",
       "      <td>0.003784</td>\n",
       "      <td>0.177926</td>\n",
       "      <td>-0.027908</td>\n",
       "      <td>-0.264179</td>\n",
       "      <td>0</td>\n",
       "    </tr>\n",
       "    <tr>\n",
       "      <th>204</th>\n",
       "      <td>0.219149</td>\n",
       "      <td>-1.153807</td>\n",
       "      <td>0.203619</td>\n",
       "      <td>0.045836</td>\n",
       "      <td>0.183272</td>\n",
       "      <td>0.012770</td>\n",
       "      <td>0.078507</td>\n",
       "      <td>0.264831</td>\n",
       "      <td>0.070749</td>\n",
       "      <td>-0.303296</td>\n",
       "      <td>0</td>\n",
       "    </tr>\n",
       "    <tr>\n",
       "      <th>205</th>\n",
       "      <td>0.297733</td>\n",
       "      <td>-1.151860</td>\n",
       "      <td>0.250096</td>\n",
       "      <td>-0.057702</td>\n",
       "      <td>0.163566</td>\n",
       "      <td>0.015275</td>\n",
       "      <td>0.045792</td>\n",
       "      <td>0.225904</td>\n",
       "      <td>0.072130</td>\n",
       "      <td>-0.313044</td>\n",
       "      <td>0</td>\n",
       "    </tr>\n",
       "    <tr>\n",
       "      <th>206</th>\n",
       "      <td>-0.045761</td>\n",
       "      <td>-0.995970</td>\n",
       "      <td>0.199677</td>\n",
       "      <td>-0.066516</td>\n",
       "      <td>-0.147227</td>\n",
       "      <td>-0.084600</td>\n",
       "      <td>0.031038</td>\n",
       "      <td>0.067444</td>\n",
       "      <td>0.025771</td>\n",
       "      <td>-0.171120</td>\n",
       "      <td>0</td>\n",
       "    </tr>\n",
       "    <tr>\n",
       "      <th>207</th>\n",
       "      <td>-0.051115</td>\n",
       "      <td>-0.912526</td>\n",
       "      <td>0.008910</td>\n",
       "      <td>-0.044387</td>\n",
       "      <td>-0.027915</td>\n",
       "      <td>-0.029949</td>\n",
       "      <td>0.033107</td>\n",
       "      <td>-0.020868</td>\n",
       "      <td>-0.118992</td>\n",
       "      <td>-0.144134</td>\n",
       "      <td>0</td>\n",
       "    </tr>\n",
       "  </tbody>\n",
       "</table>\n",
       "<p>208 rows × 11 columns</p>\n",
       "</div>"
      ],
      "text/plain": [
       "            0         1         2         3         4         5         6  \\\n",
       "0    0.576093  0.319393 -0.387291 -0.378009 -0.243780 -0.156243 -0.427736   \n",
       "1   -0.970667  1.018039  0.834156  0.107423  0.286070  0.178684 -0.260332   \n",
       "2   -0.325887  0.874209  0.246015  0.863031  0.069110 -0.300833 -0.412807   \n",
       "3    0.852035  0.690863 -0.013390 -0.110257 -0.554050  0.397968  0.492569   \n",
       "4   -0.064756  0.222968  0.638601  0.140432  0.135854  0.052881 -0.386558   \n",
       "..        ...       ...       ...       ...       ...       ...       ...   \n",
       "203  0.041781 -1.031644  0.265669  0.021516 -0.015439  0.097304  0.003784   \n",
       "204  0.219149 -1.153807  0.203619  0.045836  0.183272  0.012770  0.078507   \n",
       "205  0.297733 -1.151860  0.250096 -0.057702  0.163566  0.015275  0.045792   \n",
       "206 -0.045761 -0.995970  0.199677 -0.066516 -0.147227 -0.084600  0.031038   \n",
       "207 -0.051115 -0.912526  0.008910 -0.044387 -0.027915 -0.029949  0.033107   \n",
       "\n",
       "            7         8         9  0  \n",
       "0    0.074832 -0.024347  0.318054  1  \n",
       "1    0.385600 -0.004030 -0.072529  1  \n",
       "2    0.075321 -0.010855 -0.438559  1  \n",
       "3   -0.220460  0.537003 -0.436795  1  \n",
       "4    0.066549 -0.117006 -0.419277  1  \n",
       "..        ...       ...       ... ..  \n",
       "203  0.177926 -0.027908 -0.264179  0  \n",
       "204  0.264831  0.070749 -0.303296  0  \n",
       "205  0.225904  0.072130 -0.313044  0  \n",
       "206  0.067444  0.025771 -0.171120  0  \n",
       "207 -0.020868 -0.118992 -0.144134  0  \n",
       "\n",
       "[208 rows x 11 columns]"
      ]
     },
     "execution_count": 600,
     "metadata": {},
     "output_type": "execute_result"
    }
   ],
   "source": [
    "re=pd.concat([xd,yd],axis=1,sort=False)\n",
    "re"
   ]
  },
  {
   "cell_type": "code",
   "execution_count": 601,
   "metadata": {},
   "outputs": [
    {
     "data": {
      "text/html": [
       "<div>\n",
       "<style scoped>\n",
       "    .dataframe tbody tr th:only-of-type {\n",
       "        vertical-align: middle;\n",
       "    }\n",
       "\n",
       "    .dataframe tbody tr th {\n",
       "        vertical-align: top;\n",
       "    }\n",
       "\n",
       "    .dataframe thead th {\n",
       "        text-align: right;\n",
       "    }\n",
       "</style>\n",
       "<table border=\"1\" class=\"dataframe\">\n",
       "  <thead>\n",
       "    <tr style=\"text-align: right;\">\n",
       "      <th></th>\n",
       "      <th>0</th>\n",
       "      <th>1</th>\n",
       "      <th>2</th>\n",
       "      <th>3</th>\n",
       "      <th>4</th>\n",
       "      <th>5</th>\n",
       "      <th>6</th>\n",
       "      <th>7</th>\n",
       "      <th>8</th>\n",
       "      <th>9</th>\n",
       "      <th>0</th>\n",
       "    </tr>\n",
       "  </thead>\n",
       "  <tbody>\n",
       "    <tr>\n",
       "      <th>0</th>\n",
       "      <td>1.000000e+00</td>\n",
       "      <td>-7.700012e-17</td>\n",
       "      <td>-1.026911e-16</td>\n",
       "      <td>-7.708231e-17</td>\n",
       "      <td>6.884435e-17</td>\n",
       "      <td>-1.436210e-17</td>\n",
       "      <td>6.357354e-17</td>\n",
       "      <td>-7.363028e-17</td>\n",
       "      <td>7.798568e-17</td>\n",
       "      <td>9.480208e-18</td>\n",
       "      <td>0.156212</td>\n",
       "    </tr>\n",
       "    <tr>\n",
       "      <th>1</th>\n",
       "      <td>-7.700012e-17</td>\n",
       "      <td>1.000000e+00</td>\n",
       "      <td>1.263383e-16</td>\n",
       "      <td>-3.979354e-16</td>\n",
       "      <td>1.824302e-16</td>\n",
       "      <td>-1.510946e-16</td>\n",
       "      <td>-9.722100e-17</td>\n",
       "      <td>-9.345835e-17</td>\n",
       "      <td>2.019524e-16</td>\n",
       "      <td>-2.573771e-17</td>\n",
       "      <td>0.042275</td>\n",
       "    </tr>\n",
       "    <tr>\n",
       "      <th>2</th>\n",
       "      <td>-1.026911e-16</td>\n",
       "      <td>1.263383e-16</td>\n",
       "      <td>1.000000e+00</td>\n",
       "      <td>5.571291e-16</td>\n",
       "      <td>9.588228e-17</td>\n",
       "      <td>7.595980e-17</td>\n",
       "      <td>-1.416048e-17</td>\n",
       "      <td>7.748150e-17</td>\n",
       "      <td>1.567201e-16</td>\n",
       "      <td>-2.011419e-17</td>\n",
       "      <td>-0.005134</td>\n",
       "    </tr>\n",
       "    <tr>\n",
       "      <th>3</th>\n",
       "      <td>-7.708231e-17</td>\n",
       "      <td>-3.979354e-16</td>\n",
       "      <td>5.571291e-16</td>\n",
       "      <td>1.000000e+00</td>\n",
       "      <td>-3.797066e-16</td>\n",
       "      <td>-8.198772e-17</td>\n",
       "      <td>4.541745e-17</td>\n",
       "      <td>1.039148e-16</td>\n",
       "      <td>-1.122984e-16</td>\n",
       "      <td>6.300178e-17</td>\n",
       "      <td>-0.438379</td>\n",
       "    </tr>\n",
       "    <tr>\n",
       "      <th>4</th>\n",
       "      <td>6.884435e-17</td>\n",
       "      <td>1.824302e-16</td>\n",
       "      <td>9.588228e-17</td>\n",
       "      <td>-3.797066e-16</td>\n",
       "      <td>1.000000e+00</td>\n",
       "      <td>-1.583340e-16</td>\n",
       "      <td>-1.737439e-16</td>\n",
       "      <td>8.702697e-17</td>\n",
       "      <td>1.889555e-16</td>\n",
       "      <td>9.108142e-17</td>\n",
       "      <td>0.336482</td>\n",
       "    </tr>\n",
       "    <tr>\n",
       "      <th>5</th>\n",
       "      <td>-1.436210e-17</td>\n",
       "      <td>-1.510946e-16</td>\n",
       "      <td>7.595980e-17</td>\n",
       "      <td>-8.198772e-17</td>\n",
       "      <td>-1.583340e-16</td>\n",
       "      <td>1.000000e+00</td>\n",
       "      <td>-6.101752e-16</td>\n",
       "      <td>-6.344164e-17</td>\n",
       "      <td>1.608012e-16</td>\n",
       "      <td>-1.377700e-16</td>\n",
       "      <td>0.061745</td>\n",
       "    </tr>\n",
       "    <tr>\n",
       "      <th>6</th>\n",
       "      <td>6.357354e-17</td>\n",
       "      <td>-9.722100e-17</td>\n",
       "      <td>-1.416048e-17</td>\n",
       "      <td>4.541745e-17</td>\n",
       "      <td>-1.737439e-16</td>\n",
       "      <td>-6.101752e-16</td>\n",
       "      <td>1.000000e+00</td>\n",
       "      <td>-1.743952e-16</td>\n",
       "      <td>-9.719295e-17</td>\n",
       "      <td>6.743776e-19</td>\n",
       "      <td>-0.130570</td>\n",
       "    </tr>\n",
       "    <tr>\n",
       "      <th>7</th>\n",
       "      <td>-7.363028e-17</td>\n",
       "      <td>-9.345835e-17</td>\n",
       "      <td>7.748150e-17</td>\n",
       "      <td>1.039148e-16</td>\n",
       "      <td>8.702697e-17</td>\n",
       "      <td>-6.344164e-17</td>\n",
       "      <td>-1.743952e-16</td>\n",
       "      <td>1.000000e+00</td>\n",
       "      <td>-7.903711e-16</td>\n",
       "      <td>1.404604e-16</td>\n",
       "      <td>-0.034167</td>\n",
       "    </tr>\n",
       "    <tr>\n",
       "      <th>8</th>\n",
       "      <td>7.798568e-17</td>\n",
       "      <td>2.019524e-16</td>\n",
       "      <td>1.567201e-16</td>\n",
       "      <td>-1.122984e-16</td>\n",
       "      <td>1.889555e-16</td>\n",
       "      <td>1.608012e-16</td>\n",
       "      <td>-9.719295e-17</td>\n",
       "      <td>-7.903711e-16</td>\n",
       "      <td>1.000000e+00</td>\n",
       "      <td>-6.947532e-17</td>\n",
       "      <td>0.055580</td>\n",
       "    </tr>\n",
       "    <tr>\n",
       "      <th>9</th>\n",
       "      <td>9.480208e-18</td>\n",
       "      <td>-2.573771e-17</td>\n",
       "      <td>-2.011419e-17</td>\n",
       "      <td>6.300178e-17</td>\n",
       "      <td>9.108142e-17</td>\n",
       "      <td>-1.377700e-16</td>\n",
       "      <td>6.743776e-19</td>\n",
       "      <td>1.404604e-16</td>\n",
       "      <td>-6.947532e-17</td>\n",
       "      <td>1.000000e+00</td>\n",
       "      <td>-0.019284</td>\n",
       "    </tr>\n",
       "    <tr>\n",
       "      <th>0</th>\n",
       "      <td>1.562123e-01</td>\n",
       "      <td>4.227478e-02</td>\n",
       "      <td>-5.134140e-03</td>\n",
       "      <td>-4.383787e-01</td>\n",
       "      <td>3.364824e-01</td>\n",
       "      <td>6.174512e-02</td>\n",
       "      <td>-1.305700e-01</td>\n",
       "      <td>-3.416737e-02</td>\n",
       "      <td>5.557979e-02</td>\n",
       "      <td>-1.928442e-02</td>\n",
       "      <td>1.000000</td>\n",
       "    </tr>\n",
       "  </tbody>\n",
       "</table>\n",
       "</div>"
      ],
      "text/plain": [
       "              0             1             2             3             4  \\\n",
       "0  1.000000e+00 -7.700012e-17 -1.026911e-16 -7.708231e-17  6.884435e-17   \n",
       "1 -7.700012e-17  1.000000e+00  1.263383e-16 -3.979354e-16  1.824302e-16   \n",
       "2 -1.026911e-16  1.263383e-16  1.000000e+00  5.571291e-16  9.588228e-17   \n",
       "3 -7.708231e-17 -3.979354e-16  5.571291e-16  1.000000e+00 -3.797066e-16   \n",
       "4  6.884435e-17  1.824302e-16  9.588228e-17 -3.797066e-16  1.000000e+00   \n",
       "5 -1.436210e-17 -1.510946e-16  7.595980e-17 -8.198772e-17 -1.583340e-16   \n",
       "6  6.357354e-17 -9.722100e-17 -1.416048e-17  4.541745e-17 -1.737439e-16   \n",
       "7 -7.363028e-17 -9.345835e-17  7.748150e-17  1.039148e-16  8.702697e-17   \n",
       "8  7.798568e-17  2.019524e-16  1.567201e-16 -1.122984e-16  1.889555e-16   \n",
       "9  9.480208e-18 -2.573771e-17 -2.011419e-17  6.300178e-17  9.108142e-17   \n",
       "0  1.562123e-01  4.227478e-02 -5.134140e-03 -4.383787e-01  3.364824e-01   \n",
       "\n",
       "              5             6             7             8             9  \\\n",
       "0 -1.436210e-17  6.357354e-17 -7.363028e-17  7.798568e-17  9.480208e-18   \n",
       "1 -1.510946e-16 -9.722100e-17 -9.345835e-17  2.019524e-16 -2.573771e-17   \n",
       "2  7.595980e-17 -1.416048e-17  7.748150e-17  1.567201e-16 -2.011419e-17   \n",
       "3 -8.198772e-17  4.541745e-17  1.039148e-16 -1.122984e-16  6.300178e-17   \n",
       "4 -1.583340e-16 -1.737439e-16  8.702697e-17  1.889555e-16  9.108142e-17   \n",
       "5  1.000000e+00 -6.101752e-16 -6.344164e-17  1.608012e-16 -1.377700e-16   \n",
       "6 -6.101752e-16  1.000000e+00 -1.743952e-16 -9.719295e-17  6.743776e-19   \n",
       "7 -6.344164e-17 -1.743952e-16  1.000000e+00 -7.903711e-16  1.404604e-16   \n",
       "8  1.608012e-16 -9.719295e-17 -7.903711e-16  1.000000e+00 -6.947532e-17   \n",
       "9 -1.377700e-16  6.743776e-19  1.404604e-16 -6.947532e-17  1.000000e+00   \n",
       "0  6.174512e-02 -1.305700e-01 -3.416737e-02  5.557979e-02 -1.928442e-02   \n",
       "\n",
       "          0  \n",
       "0  0.156212  \n",
       "1  0.042275  \n",
       "2 -0.005134  \n",
       "3 -0.438379  \n",
       "4  0.336482  \n",
       "5  0.061745  \n",
       "6 -0.130570  \n",
       "7 -0.034167  \n",
       "8  0.055580  \n",
       "9 -0.019284  \n",
       "0  1.000000  "
      ]
     },
     "execution_count": 601,
     "metadata": {},
     "output_type": "execute_result"
    }
   ],
   "source": [
    "dco=re.corr()\n",
    "dco"
   ]
  },
  {
   "cell_type": "code",
   "execution_count": 602,
   "metadata": {},
   "outputs": [
    {
     "data": {
      "text/plain": [
       "<matplotlib.axes._subplots.AxesSubplot at 0x187e4b53b88>"
      ]
     },
     "execution_count": 602,
     "metadata": {},
     "output_type": "execute_result"
    },
    {
     "data": {
      "image/png": "[encoded data removed]",
      "text/plain": [
       "<Figure size 432x288 with 2 Axes>"
      ]
     },
     "metadata": {
      "needs_background": "light"
     },
     "output_type": "display_data"
    }
   ],
   "source": [
    "sns.heatmap(re)"
   ]
  },
  {
   "cell_type": "code",
   "execution_count": 603,
   "metadata": {},
   "outputs": [],
   "source": [
    "from sklearn.preprocessing import StandardScaler"
   ]
  },
  {
   "cell_type": "code",
   "execution_count": 604,
   "metadata": {},
   "outputs": [],
   "source": [
    "scale=StandardScaler()"
   ]
  },
  {
   "cell_type": "code",
   "execution_count": 605,
   "metadata": {},
   "outputs": [],
   "source": [
    "xd=scale.fit_transform(xd)"
   ]
  },
  {
   "cell_type": "code",
   "execution_count": 606,
   "metadata": {},
   "outputs": [
    {
     "data": {
      "text/plain": [
       "array([[ 0.77248548,  0.53637412, -1.00388427, ...,  0.34967873,\n",
       "        -0.12361526,  1.73948998],\n",
       "       [-1.30157293,  1.70964933,  2.16218874, ...,  1.80184747,\n",
       "        -0.02045941, -0.39667238],\n",
       "       [-0.4369833 ,  1.46810656,  0.63768818, ...,  0.35196184,\n",
       "        -0.05511404, -2.39855363],\n",
       "       ...,\n",
       "       [ 0.39923188, -1.9343817 ,  0.64826473, ...,  1.0556106 ,\n",
       "         0.36621476, -1.71208812],\n",
       "       [-0.06136088, -1.67258649,  0.51757656, ...,  0.31515471,\n",
       "         0.13084289, -0.93588241],\n",
       "       [-0.06853978, -1.5324556 ,  0.02309443, ..., -0.09751457,\n",
       "        -0.60414087, -0.78829398]])"
      ]
     },
     "execution_count": 606,
     "metadata": {},
     "output_type": "execute_result"
    }
   ],
   "source": [
    "xd"
   ]
  },
  {
   "cell_type": "code",
   "execution_count": 607,
   "metadata": {},
   "outputs": [
    {
     "data": {
      "text/html": [
       "<div>\n",
       "<style scoped>\n",
       "    .dataframe tbody tr th:only-of-type {\n",
       "        vertical-align: middle;\n",
       "    }\n",
       "\n",
       "    .dataframe tbody tr th {\n",
       "        vertical-align: top;\n",
       "    }\n",
       "\n",
       "    .dataframe thead th {\n",
       "        text-align: right;\n",
       "    }\n",
       "</style>\n",
       "<table border=\"1\" class=\"dataframe\">\n",
       "  <thead>\n",
       "    <tr style=\"text-align: right;\">\n",
       "      <th></th>\n",
       "      <th>0</th>\n",
       "      <th>1</th>\n",
       "      <th>2</th>\n",
       "      <th>3</th>\n",
       "      <th>4</th>\n",
       "      <th>5</th>\n",
       "      <th>6</th>\n",
       "      <th>7</th>\n",
       "      <th>8</th>\n",
       "      <th>9</th>\n",
       "    </tr>\n",
       "  </thead>\n",
       "  <tbody>\n",
       "    <tr>\n",
       "      <th>0</th>\n",
       "      <td>0.772485</td>\n",
       "      <td>0.536374</td>\n",
       "      <td>-1.003884</td>\n",
       "      <td>-1.127681</td>\n",
       "      <td>-0.813348</td>\n",
       "      <td>-0.561474</td>\n",
       "      <td>-1.580997</td>\n",
       "      <td>0.349679</td>\n",
       "      <td>-0.123615</td>\n",
       "      <td>1.739490</td>\n",
       "    </tr>\n",
       "    <tr>\n",
       "      <th>1</th>\n",
       "      <td>-1.301573</td>\n",
       "      <td>1.709649</td>\n",
       "      <td>2.162189</td>\n",
       "      <td>0.320467</td>\n",
       "      <td>0.954444</td>\n",
       "      <td>0.642118</td>\n",
       "      <td>-0.962237</td>\n",
       "      <td>1.801847</td>\n",
       "      <td>-0.020459</td>\n",
       "      <td>-0.396672</td>\n",
       "    </tr>\n",
       "    <tr>\n",
       "      <th>2</th>\n",
       "      <td>-0.436983</td>\n",
       "      <td>1.468107</td>\n",
       "      <td>0.637688</td>\n",
       "      <td>2.574604</td>\n",
       "      <td>0.230577</td>\n",
       "      <td>-1.081070</td>\n",
       "      <td>-1.525816</td>\n",
       "      <td>0.351962</td>\n",
       "      <td>-0.055114</td>\n",
       "      <td>-2.398554</td>\n",
       "    </tr>\n",
       "    <tr>\n",
       "      <th>3</th>\n",
       "      <td>1.142499</td>\n",
       "      <td>1.160203</td>\n",
       "      <td>-0.034708</td>\n",
       "      <td>-0.328919</td>\n",
       "      <td>-1.848530</td>\n",
       "      <td>1.430135</td>\n",
       "      <td>1.820632</td>\n",
       "      <td>-1.030172</td>\n",
       "      <td>2.726452</td>\n",
       "      <td>-2.388903</td>\n",
       "    </tr>\n",
       "    <tr>\n",
       "      <th>4</th>\n",
       "      <td>-0.086831</td>\n",
       "      <td>0.374442</td>\n",
       "      <td>1.655298</td>\n",
       "      <td>0.418939</td>\n",
       "      <td>0.453263</td>\n",
       "      <td>0.190032</td>\n",
       "      <td>-1.428795</td>\n",
       "      <td>0.310971</td>\n",
       "      <td>-0.594057</td>\n",
       "      <td>-2.293097</td>\n",
       "    </tr>\n",
       "    <tr>\n",
       "      <th>...</th>\n",
       "      <td>...</td>\n",
       "      <td>...</td>\n",
       "      <td>...</td>\n",
       "      <td>...</td>\n",
       "      <td>...</td>\n",
       "      <td>...</td>\n",
       "      <td>...</td>\n",
       "      <td>...</td>\n",
       "      <td>...</td>\n",
       "      <td>...</td>\n",
       "    </tr>\n",
       "    <tr>\n",
       "      <th>203</th>\n",
       "      <td>0.056025</td>\n",
       "      <td>-1.732496</td>\n",
       "      <td>0.688633</td>\n",
       "      <td>0.064186</td>\n",
       "      <td>-0.051512</td>\n",
       "      <td>0.349671</td>\n",
       "      <td>0.013986</td>\n",
       "      <td>0.831421</td>\n",
       "      <td>-0.141691</td>\n",
       "      <td>-1.444840</td>\n",
       "    </tr>\n",
       "    <tr>\n",
       "      <th>204</th>\n",
       "      <td>0.293858</td>\n",
       "      <td>-1.937652</td>\n",
       "      <td>0.527795</td>\n",
       "      <td>0.136739</td>\n",
       "      <td>0.611466</td>\n",
       "      <td>0.045891</td>\n",
       "      <td>0.290176</td>\n",
       "      <td>1.237511</td>\n",
       "      <td>0.359205</td>\n",
       "      <td>-1.658774</td>\n",
       "    </tr>\n",
       "    <tr>\n",
       "      <th>205</th>\n",
       "      <td>0.399232</td>\n",
       "      <td>-1.934382</td>\n",
       "      <td>0.648265</td>\n",
       "      <td>-0.172138</td>\n",
       "      <td>0.545721</td>\n",
       "      <td>0.054893</td>\n",
       "      <td>0.169254</td>\n",
       "      <td>1.055611</td>\n",
       "      <td>0.366215</td>\n",
       "      <td>-1.712088</td>\n",
       "    </tr>\n",
       "    <tr>\n",
       "      <th>206</th>\n",
       "      <td>-0.061361</td>\n",
       "      <td>-1.672586</td>\n",
       "      <td>0.517577</td>\n",
       "      <td>-0.198430</td>\n",
       "      <td>-0.491206</td>\n",
       "      <td>-0.304020</td>\n",
       "      <td>0.114722</td>\n",
       "      <td>0.315155</td>\n",
       "      <td>0.130843</td>\n",
       "      <td>-0.935882</td>\n",
       "    </tr>\n",
       "    <tr>\n",
       "      <th>207</th>\n",
       "      <td>-0.068540</td>\n",
       "      <td>-1.532456</td>\n",
       "      <td>0.023094</td>\n",
       "      <td>-0.132416</td>\n",
       "      <td>-0.093137</td>\n",
       "      <td>-0.107626</td>\n",
       "      <td>0.122371</td>\n",
       "      <td>-0.097515</td>\n",
       "      <td>-0.604141</td>\n",
       "      <td>-0.788294</td>\n",
       "    </tr>\n",
       "  </tbody>\n",
       "</table>\n",
       "<p>208 rows × 10 columns</p>\n",
       "</div>"
      ],
      "text/plain": [
       "            0         1         2         3         4         5         6  \\\n",
       "0    0.772485  0.536374 -1.003884 -1.127681 -0.813348 -0.561474 -1.580997   \n",
       "1   -1.301573  1.709649  2.162189  0.320467  0.954444  0.642118 -0.962237   \n",
       "2   -0.436983  1.468107  0.637688  2.574604  0.230577 -1.081070 -1.525816   \n",
       "3    1.142499  1.160203 -0.034708 -0.328919 -1.848530  1.430135  1.820632   \n",
       "4   -0.086831  0.374442  1.655298  0.418939  0.453263  0.190032 -1.428795   \n",
       "..        ...       ...       ...       ...       ...       ...       ...   \n",
       "203  0.056025 -1.732496  0.688633  0.064186 -0.051512  0.349671  0.013986   \n",
       "204  0.293858 -1.937652  0.527795  0.136739  0.611466  0.045891  0.290176   \n",
       "205  0.399232 -1.934382  0.648265 -0.172138  0.545721  0.054893  0.169254   \n",
       "206 -0.061361 -1.672586  0.517577 -0.198430 -0.491206 -0.304020  0.114722   \n",
       "207 -0.068540 -1.532456  0.023094 -0.132416 -0.093137 -0.107626  0.122371   \n",
       "\n",
       "            7         8         9  \n",
       "0    0.349679 -0.123615  1.739490  \n",
       "1    1.801847 -0.020459 -0.396672  \n",
       "2    0.351962 -0.055114 -2.398554  \n",
       "3   -1.030172  2.726452 -2.388903  \n",
       "4    0.310971 -0.594057 -2.293097  \n",
       "..        ...       ...       ...  \n",
       "203  0.831421 -0.141691 -1.444840  \n",
       "204  1.237511  0.359205 -1.658774  \n",
       "205  1.055611  0.366215 -1.712088  \n",
       "206  0.315155  0.130843 -0.935882  \n",
       "207 -0.097515 -0.604141 -0.788294  \n",
       "\n",
       "[208 rows x 10 columns]"
      ]
     },
     "execution_count": 607,
     "metadata": {},
     "output_type": "execute_result"
    }
   ],
   "source": [
    "xdd=pd.DataFrame(xd)\n",
    "xdd"
   ]
  },
  {
   "cell_type": "code",
   "execution_count": 608,
   "metadata": {},
   "outputs": [],
   "source": [
    "xtrain,xtest,ytrain,ytest=train_test_split(xdd,yd,test_size=.22,random_state=45)"
   ]
  },
  {
   "cell_type": "code",
   "execution_count": 609,
   "metadata": {},
   "outputs": [],
   "source": [
    "model=[LogisticRegression(),GaussianNB(),SVC(),DecisionTreeClassifier()]"
   ]
  },
  {
   "cell_type": "code",
   "execution_count": 610,
   "metadata": {},
   "outputs": [
    {
     "name": "stderr",
     "output_type": "stream",
     "text": [
      "C:\\Users\\Siddhant\\anaconda3\\lib\\site-packages\\sklearn\\utils\\validation.py:760: DataConversionWarning: A column-vector y was passed when a 1d array was expected. Please change the shape of y to (n_samples, ), for example using ravel().\n",
      "  y = column_or_1d(y, warn=True)\n"
     ]
    },
    {
     "name": "stdout",
     "output_type": "stream",
     "text": [
      "accuracy score of  LogisticRegression(C=1.0, class_weight=None, dual=False, fit_intercept=True,\n",
      "                   intercept_scaling=1, l1_ratio=None, max_iter=100,\n",
      "                   multi_class='auto', n_jobs=None, penalty='l2',\n",
      "                   random_state=None, solver='lbfgs', tol=0.0001, verbose=0,\n",
      "                   warm_start=False) is 0.8043478260869565\n",
      "[[20  1]\n",
      " [ 8 17]]\n",
      "              precision    recall  f1-score   support\n",
      "\n",
      "           0       0.71      0.95      0.82        21\n",
      "           1       0.94      0.68      0.79        25\n",
      "\n",
      "    accuracy                           0.80        46\n",
      "   macro avg       0.83      0.82      0.80        46\n",
      "weighted avg       0.84      0.80      0.80        46\n",
      "\n",
      "\n",
      "\n",
      "accuracy score of  GaussianNB(priors=None, var_smoothing=1e-09) is 0.8260869565217391\n",
      "[[20  1]\n",
      " [ 7 18]]\n"
     ]
    },
    {
     "name": "stderr",
     "output_type": "stream",
     "text": [
      "C:\\Users\\Siddhant\\anaconda3\\lib\\site-packages\\sklearn\\naive_bayes.py:206: DataConversionWarning: A column-vector y was passed when a 1d array was expected. Please change the shape of y to (n_samples, ), for example using ravel().\n",
      "  y = column_or_1d(y, warn=True)\n",
      "C:\\Users\\Siddhant\\anaconda3\\lib\\site-packages\\sklearn\\utils\\validation.py:760: DataConversionWarning: A column-vector y was passed when a 1d array was expected. Please change the shape of y to (n_samples, ), for example using ravel().\n",
      "  y = column_or_1d(y, warn=True)\n"
     ]
    },
    {
     "name": "stdout",
     "output_type": "stream",
     "text": [
      "              precision    recall  f1-score   support\n",
      "\n",
      "           0       0.74      0.95      0.83        21\n",
      "           1       0.95      0.72      0.82        25\n",
      "\n",
      "    accuracy                           0.83        46\n",
      "   macro avg       0.84      0.84      0.83        46\n",
      "weighted avg       0.85      0.83      0.83        46\n",
      "\n",
      "\n",
      "\n",
      "accuracy score of  SVC(C=1.0, break_ties=False, cache_size=200, class_weight=None, coef0=0.0,\n",
      "    decision_function_shape='ovr', degree=3, gamma='scale', kernel='rbf',\n",
      "    max_iter=-1, probability=False, random_state=None, shrinking=True,\n",
      "    tol=0.001, verbose=False) is 0.8913043478260869\n",
      "[[21  0]\n",
      " [ 5 20]]\n",
      "              precision    recall  f1-score   support\n",
      "\n",
      "           0       0.81      1.00      0.89        21\n",
      "           1       1.00      0.80      0.89        25\n",
      "\n",
      "    accuracy                           0.89        46\n",
      "   macro avg       0.90      0.90      0.89        46\n",
      "weighted avg       0.91      0.89      0.89        46\n",
      "\n",
      "\n",
      "\n",
      "accuracy score of  DecisionTreeClassifier(ccp_alpha=0.0, class_weight=None, criterion='gini',\n",
      "                       max_depth=None, max_features=None, max_leaf_nodes=None,\n",
      "                       min_impurity_decrease=0.0, min_impurity_split=None,\n",
      "                       min_samples_leaf=1, min_samples_split=2,\n",
      "                       min_weight_fraction_leaf=0.0, presort='deprecated',\n",
      "                       random_state=None, splitter='best') is 0.6739130434782609\n",
      "[[16  5]\n",
      " [10 15]]\n",
      "              precision    recall  f1-score   support\n",
      "\n",
      "           0       0.62      0.76      0.68        21\n",
      "           1       0.75      0.60      0.67        25\n",
      "\n",
      "    accuracy                           0.67        46\n",
      "   macro avg       0.68      0.68      0.67        46\n",
      "weighted avg       0.69      0.67      0.67        46\n",
      "\n",
      "\n",
      "\n"
     ]
    }
   ],
   "source": [
    "for m in model:\n",
    "    m.fit(xtrain,ytrain)\n",
    "    m.score(xtrain,ytrain)\n",
    "    predm=m.predict(xtest)\n",
    "    print('accuracy score of ',m,'is',accuracy_score(ytest,predm))\n",
    "    print(confusion_matrix(ytest,predm))\n",
    "    print(classification_report(ytest,predm))\n",
    "    print('\\n')"
   ]
  },
  {
   "cell_type": "code",
   "execution_count": 611,
   "metadata": {},
   "outputs": [],
   "source": [
    "from sklearn.model_selection import cross_val_score"
   ]
  },
  {
   "cell_type": "code",
   "execution_count": 612,
   "metadata": {},
   "outputs": [
    {
     "name": "stdout",
     "output_type": "stream",
     "text": [
      "[0.45238095 0.9047619  0.61904762 0.90243902 0.46341463]\n",
      "0.6684088269454123 0.20087812286294673\n"
     ]
    },
    {
     "name": "stderr",
     "output_type": "stream",
     "text": [
      "C:\\Users\\Siddhant\\anaconda3\\lib\\site-packages\\sklearn\\utils\\validation.py:760: DataConversionWarning: A column-vector y was passed when a 1d array was expected. Please change the shape of y to (n_samples, ), for example using ravel().\n",
      "  y = column_or_1d(y, warn=True)\n",
      "C:\\Users\\Siddhant\\anaconda3\\lib\\site-packages\\sklearn\\utils\\validation.py:760: DataConversionWarning: A column-vector y was passed when a 1d array was expected. Please change the shape of y to (n_samples, ), for example using ravel().\n",
      "  y = column_or_1d(y, warn=True)\n",
      "C:\\Users\\Siddhant\\anaconda3\\lib\\site-packages\\sklearn\\utils\\validation.py:760: DataConversionWarning: A column-vector y was passed when a 1d array was expected. Please change the shape of y to (n_samples, ), for example using ravel().\n",
      "  y = column_or_1d(y, warn=True)\n",
      "C:\\Users\\Siddhant\\anaconda3\\lib\\site-packages\\sklearn\\utils\\validation.py:760: DataConversionWarning: A column-vector y was passed when a 1d array was expected. Please change the shape of y to (n_samples, ), for example using ravel().\n",
      "  y = column_or_1d(y, warn=True)\n",
      "C:\\Users\\Siddhant\\anaconda3\\lib\\site-packages\\sklearn\\utils\\validation.py:760: DataConversionWarning: A column-vector y was passed when a 1d array was expected. Please change the shape of y to (n_samples, ), for example using ravel().\n",
      "  y = column_or_1d(y, warn=True)\n"
     ]
    }
   ],
   "source": [
    "lr=LogisticRegression()\n",
    "lrscores=cross_val_score(lr,xd,yd,cv=5)\n",
    "print(lrscores)\n",
    "print(lrscores.mean(),lrscores.std())"
   ]
  },
  {
   "cell_type": "code",
   "execution_count": 613,
   "metadata": {},
   "outputs": [
    {
     "name": "stderr",
     "output_type": "stream",
     "text": [
      "C:\\Users\\Siddhant\\anaconda3\\lib\\site-packages\\sklearn\\naive_bayes.py:206: DataConversionWarning: A column-vector y was passed when a 1d array was expected. Please change the shape of y to (n_samples, ), for example using ravel().\n",
      "  y = column_or_1d(y, warn=True)\n",
      "C:\\Users\\Siddhant\\anaconda3\\lib\\site-packages\\sklearn\\naive_bayes.py:206: DataConversionWarning: A column-vector y was passed when a 1d array was expected. Please change the shape of y to (n_samples, ), for example using ravel().\n",
      "  y = column_or_1d(y, warn=True)\n",
      "C:\\Users\\Siddhant\\anaconda3\\lib\\site-packages\\sklearn\\naive_bayes.py:206: DataConversionWarning: A column-vector y was passed when a 1d array was expected. Please change the shape of y to (n_samples, ), for example using ravel().\n",
      "  y = column_or_1d(y, warn=True)\n",
      "C:\\Users\\Siddhant\\anaconda3\\lib\\site-packages\\sklearn\\naive_bayes.py:206: DataConversionWarning: A column-vector y was passed when a 1d array was expected. Please change the shape of y to (n_samples, ), for example using ravel().\n",
      "  y = column_or_1d(y, warn=True)\n",
      "C:\\Users\\Siddhant\\anaconda3\\lib\\site-packages\\sklearn\\naive_bayes.py:206: DataConversionWarning: A column-vector y was passed when a 1d array was expected. Please change the shape of y to (n_samples, ), for example using ravel().\n",
      "  y = column_or_1d(y, warn=True)\n"
     ]
    },
    {
     "name": "stdout",
     "output_type": "stream",
     "text": [
      "[0.47619048 0.73809524 0.42857143 0.70731707 0.36585366]\n",
      "0.543205574912892 0.1509968727373656\n"
     ]
    }
   ],
   "source": [
    "gnb=GaussianNB()\n",
    "gnbscores=cross_val_score(gnb,xd,yd,cv=5)\n",
    "print(gnbscores)\n",
    "print(gnbscores.mean(),gnbscores.std())"
   ]
  },
  {
   "cell_type": "code",
   "execution_count": 614,
   "metadata": {},
   "outputs": [
    {
     "name": "stdout",
     "output_type": "stream",
     "text": [
      "[0.47619048 0.69047619 0.54761905 0.75609756 0.36585366]\n",
      "0.5672473867595819 0.14148200789797596\n"
     ]
    },
    {
     "name": "stderr",
     "output_type": "stream",
     "text": [
      "C:\\Users\\Siddhant\\anaconda3\\lib\\site-packages\\sklearn\\utils\\validation.py:760: DataConversionWarning: A column-vector y was passed when a 1d array was expected. Please change the shape of y to (n_samples, ), for example using ravel().\n",
      "  y = column_or_1d(y, warn=True)\n",
      "C:\\Users\\Siddhant\\anaconda3\\lib\\site-packages\\sklearn\\utils\\validation.py:760: DataConversionWarning: A column-vector y was passed when a 1d array was expected. Please change the shape of y to (n_samples, ), for example using ravel().\n",
      "  y = column_or_1d(y, warn=True)\n",
      "C:\\Users\\Siddhant\\anaconda3\\lib\\site-packages\\sklearn\\utils\\validation.py:760: DataConversionWarning: A column-vector y was passed when a 1d array was expected. Please change the shape of y to (n_samples, ), for example using ravel().\n",
      "  y = column_or_1d(y, warn=True)\n",
      "C:\\Users\\Siddhant\\anaconda3\\lib\\site-packages\\sklearn\\utils\\validation.py:760: DataConversionWarning: A column-vector y was passed when a 1d array was expected. Please change the shape of y to (n_samples, ), for example using ravel().\n",
      "  y = column_or_1d(y, warn=True)\n",
      "C:\\Users\\Siddhant\\anaconda3\\lib\\site-packages\\sklearn\\utils\\validation.py:760: DataConversionWarning: A column-vector y was passed when a 1d array was expected. Please change the shape of y to (n_samples, ), for example using ravel().\n",
      "  y = column_or_1d(y, warn=True)\n"
     ]
    }
   ],
   "source": [
    "svc=SVC()\n",
    "svcscores=cross_val_score(svc,xd,yd,cv=5)\n",
    "print(svcscores)\n",
    "print(svcscores.mean(),svcscores.std())"
   ]
  },
  {
   "cell_type": "code",
   "execution_count": 615,
   "metadata": {},
   "outputs": [
    {
     "name": "stdout",
     "output_type": "stream",
     "text": [
      "[0.33333333 0.57142857 0.4047619  0.58536585 0.29268293]\n",
      "0.4375145180023228 0.12057830142708417\n"
     ]
    }
   ],
   "source": [
    "dtc=DecisionTreeClassifier()\n",
    "dtcscores=cross_val_score(dtc,xd,yd,cv=5)\n",
    "print(dtcscores)\n",
    "print(dtcscores.mean(),dtcscores.std())"
   ]
  },
  {
   "cell_type": "code",
   "execution_count": 616,
   "metadata": {},
   "outputs": [],
   "source": [
    "from sklearn.metrics import roc_curve\n",
    "import matplotlib.pyplot as plt\n",
    "from sklearn.metrics import roc_auc_score"
   ]
  },
  {
   "cell_type": "code",
   "execution_count": 617,
   "metadata": {},
   "outputs": [
    {
     "name": "stdout",
     "output_type": "stream",
     "text": [
      "[0.16758144 0.32251706 0.24861805 0.0790832  0.65413736 0.31160902\n",
      " 0.92184471 0.17635149 0.85343126 0.26104095 0.36520696 0.19097827\n",
      " 0.03945392 0.49085925 0.6157646  0.64758394 0.93330881 0.21717618\n",
      " 0.34803631 0.3278064  0.51488055 0.7478226  0.80131599 0.27054884\n",
      " 0.14335419 0.72923316 0.94893691 0.85751677 0.36378074 0.19564934\n",
      " 0.03700692 0.00595531 0.15304258 0.09908707 0.40958225 0.91681071\n",
      " 0.91785519 0.28704204 0.33200084 0.91923629 0.04218018 0.95535293\n",
      " 0.80330392 0.81678561 0.26572812 0.10460194]\n"
     ]
    },
    {
     "name": "stderr",
     "output_type": "stream",
     "text": [
      "C:\\Users\\Siddhant\\anaconda3\\lib\\site-packages\\sklearn\\utils\\validation.py:760: DataConversionWarning: A column-vector y was passed when a 1d array was expected. Please change the shape of y to (n_samples, ), for example using ravel().\n",
      "  y = column_or_1d(y, warn=True)\n"
     ]
    }
   ],
   "source": [
    "lr.fit(xtrain,ytrain)\n",
    "predlr=lr.predict(xtest)\n",
    "y_pred_prob=lr.predict_proba(xtest)[:,1]\n",
    "print(y_pred_prob)"
   ]
  },
  {
   "cell_type": "code",
   "execution_count": 618,
   "metadata": {},
   "outputs": [],
   "source": [
    "fpr,tpr,thresholds=roc_curve(ytest,y_pred_prob)\n"
   ]
  },
  {
   "cell_type": "code",
   "execution_count": 619,
   "metadata": {},
   "outputs": [
    {
     "data": {
      "text/plain": [
       "array([0.        , 0.        , 0.        , 0.04761905, 0.04761905,\n",
       "       0.0952381 , 0.0952381 , 0.19047619, 0.19047619, 0.38095238,\n",
       "       0.38095238, 0.71428571, 0.71428571, 0.85714286, 0.85714286,\n",
       "       1.        ])"
      ]
     },
     "execution_count": 619,
     "metadata": {},
     "output_type": "execute_result"
    }
   ],
   "source": [
    "fpr"
   ]
  },
  {
   "cell_type": "code",
   "execution_count": 620,
   "metadata": {},
   "outputs": [
    {
     "data": {
      "text/plain": [
       "array([0.  , 0.04, 0.68, 0.68, 0.76, 0.76, 0.8 , 0.8 , 0.88, 0.88, 0.92,\n",
       "       0.92, 0.96, 0.96, 1.  , 1.  ])"
      ]
     },
     "execution_count": 620,
     "metadata": {},
     "output_type": "execute_result"
    }
   ],
   "source": [
    "tpr"
   ]
  },
  {
   "cell_type": "code",
   "execution_count": 621,
   "metadata": {},
   "outputs": [
    {
     "data": {
      "text/plain": [
       "array([1.95535293, 0.95535293, 0.6157646 , 0.51488055, 0.40958225,\n",
       "       0.36520696, 0.36378074, 0.33200084, 0.32251706, 0.26572812,\n",
       "       0.26104095, 0.15304258, 0.14335419, 0.0790832 , 0.04218018,\n",
       "       0.00595531])"
      ]
     },
     "execution_count": 621,
     "metadata": {},
     "output_type": "execute_result"
    }
   ],
   "source": [
    "thresholds"
   ]
  },
  {
   "cell_type": "code",
   "execution_count": 622,
   "metadata": {},
   "outputs": [
    {
     "data": {
      "image/png": "[encoded data removed]",
      "text/plain": [
       "<Figure size 432x288 with 1 Axes>"
      ]
     },
     "metadata": {
      "needs_background": "light"
     },
     "output_type": "display_data"
    }
   ],
   "source": [
    "plt.plot([0,1],[0,1],'k--')\n",
    "plt.plot(fpr,tpr,label='LR')\n",
    "plt.xlabel('FPR')\n",
    "plt.ylabel('TPR')\n",
    "plt.title('LR')\n",
    "plt.show()"
   ]
  },
  {
   "cell_type": "code",
   "execution_count": 623,
   "metadata": {},
   "outputs": [
    {
     "data": {
      "text/plain": [
       "0.8161904761904762"
      ]
     },
     "execution_count": 623,
     "metadata": {},
     "output_type": "execute_result"
    }
   ],
   "source": [
    "auc_score=roc_auc_score(ytest,lr.predict(xtest))\n",
    "auc_score"
   ]
  },
  {
   "cell_type": "code",
   "execution_count": 624,
   "metadata": {},
   "outputs": [
    {
     "name": "stdout",
     "output_type": "stream",
     "text": [
      "[0.21843273 0.56531122 0.31412713 0.14809847 0.6304789  0.27186282\n",
      " 0.84487653 0.22201684 0.73622822 0.41060121 0.36487609 0.44978687\n",
      " 0.15830571 0.43435031 0.47985842 0.63982501 0.85723968 0.2117992\n",
      " 0.35504923 0.28812632 0.51170602 0.96067024 0.79622207 0.2600509\n",
      " 0.55369506 0.69544369 0.83190129 0.82141368 0.46987956 0.18841761\n",
      " 0.14544487 0.0363605  0.22367249 0.20093195 0.23275225 0.73757998\n",
      " 0.91546053 0.30536419 0.22921342 0.88421366 0.01325755 0.76039781\n",
      " 0.65044269 0.69814082 0.28053571 0.22172192]\n"
     ]
    },
    {
     "name": "stderr",
     "output_type": "stream",
     "text": [
      "C:\\Users\\Siddhant\\anaconda3\\lib\\site-packages\\sklearn\\naive_bayes.py:206: DataConversionWarning: A column-vector y was passed when a 1d array was expected. Please change the shape of y to (n_samples, ), for example using ravel().\n",
      "  y = column_or_1d(y, warn=True)\n"
     ]
    }
   ],
   "source": [
    "gnb.fit(xtrain,ytrain)\n",
    "predgnb=gnb.predict(xtest)\n",
    "y_pred_prob=gnb.predict_proba(xtest)[:,1]\n",
    "print(y_pred_prob)"
   ]
  },
  {
   "cell_type": "code",
   "execution_count": 625,
   "metadata": {},
   "outputs": [],
   "source": [
    "fpr,tpr,thresholds=roc_curve(ytest,y_pred_prob)"
   ]
  },
  {
   "cell_type": "code",
   "execution_count": 626,
   "metadata": {},
   "outputs": [
    {
     "data": {
      "text/plain": [
       "array([0.        , 0.        , 0.        , 0.04761905, 0.04761905,\n",
       "       0.0952381 , 0.0952381 , 0.28571429, 0.28571429, 0.42857143,\n",
       "       0.42857143, 1.        , 1.        ])"
      ]
     },
     "execution_count": 626,
     "metadata": {},
     "output_type": "execute_result"
    }
   ],
   "source": [
    "fpr"
   ]
  },
  {
   "cell_type": "code",
   "execution_count": 627,
   "metadata": {},
   "outputs": [
    {
     "data": {
      "text/plain": [
       "array([0.  , 0.04, 0.72, 0.72, 0.8 , 0.8 , 0.88, 0.88, 0.92, 0.92, 0.96,\n",
       "       0.96, 1.  ])"
      ]
     },
     "execution_count": 627,
     "metadata": {},
     "output_type": "execute_result"
    }
   ],
   "source": [
    "tpr"
   ]
  },
  {
   "cell_type": "code",
   "execution_count": 628,
   "metadata": {},
   "outputs": [
    {
     "data": {
      "text/plain": [
       "array([1.96067024, 0.96067024, 0.55369506, 0.51170602, 0.46987956,\n",
       "       0.44978687, 0.41060121, 0.30536419, 0.28812632, 0.2600509 ,\n",
       "       0.23275225, 0.0363605 , 0.01325755])"
      ]
     },
     "execution_count": 628,
     "metadata": {},
     "output_type": "execute_result"
    }
   ],
   "source": [
    "thresholds"
   ]
  },
  {
   "cell_type": "code",
   "execution_count": 629,
   "metadata": {},
   "outputs": [
    {
     "data": {
      "image/png": "[encoded data removed]",
      "text/plain": [
       "<Figure size 432x288 with 1 Axes>"
      ]
     },
     "metadata": {
      "needs_background": "light"
     },
     "output_type": "display_data"
    },
    {
     "data": {
      "text/plain": [
       "0.8361904761904762"
      ]
     },
     "execution_count": 629,
     "metadata": {},
     "output_type": "execute_result"
    }
   ],
   "source": [
    "plt.plot([0,1],[0,1],'k--')\n",
    "plt.plot(fpr,tpr,label='GNB')\n",
    "plt.xlabel('FPR')\n",
    "plt.ylabel('TPR')\n",
    "plt.title('GNB')\n",
    "plt.show()\n",
    "auc_score=roc_auc_score(ytest,gnb.predict(xtest))\n",
    "auc_score"
   ]
  },
  {
   "cell_type": "code",
   "execution_count": 630,
   "metadata": {},
   "outputs": [
    {
     "name": "stdout",
     "output_type": "stream",
     "text": [
      "[0.13429763 0.72687306 0.11841969 0.02778865 0.82127986 0.07177104\n",
      " 0.98429219 0.08817426 0.98486495 0.48593475 0.18771227 0.11597736\n",
      " 0.03704869 0.36085919 0.76686437 0.88119868 0.91121574 0.07003623\n",
      " 0.13895245 0.1985526  0.26542352 0.95371137 0.92926129 0.18932507\n",
      " 0.75355412 0.79531335 0.79960473 0.93086195 0.35363999 0.09765439\n",
      " 0.12995382 0.02729903 0.05407148 0.03730655 0.77276215 0.92840462\n",
      " 0.96234911 0.35399736 0.12220104 0.94454752 0.351814   0.93328071\n",
      " 0.78915291 0.81176126 0.07995582 0.07079777]\n"
     ]
    },
    {
     "name": "stderr",
     "output_type": "stream",
     "text": [
      "C:\\Users\\Siddhant\\anaconda3\\lib\\site-packages\\sklearn\\utils\\validation.py:760: DataConversionWarning: A column-vector y was passed when a 1d array was expected. Please change the shape of y to (n_samples, ), for example using ravel().\n",
      "  y = column_or_1d(y, warn=True)\n"
     ]
    }
   ],
   "source": [
    "svc=SVC(probability=True)\n",
    "svc.fit(xtrain,ytrain)\n",
    "predsvc=svc.predict(xtest)\n",
    "y_pred_prob=svc.predict_proba(xtest)[:,1]\n",
    "print(y_pred_prob)"
   ]
  },
  {
   "cell_type": "code",
   "execution_count": 631,
   "metadata": {},
   "outputs": [],
   "source": [
    "fpr,tpr,thresholds=roc_curve(ytest,y_pred_prob)"
   ]
  },
  {
   "cell_type": "code",
   "execution_count": 632,
   "metadata": {},
   "outputs": [
    {
     "data": {
      "text/plain": [
       "array([0.        , 0.        , 0.        , 0.04761905, 0.04761905,\n",
       "       0.0952381 , 0.0952381 , 1.        ])"
      ]
     },
     "execution_count": 632,
     "metadata": {},
     "output_type": "execute_result"
    }
   ],
   "source": [
    "fpr"
   ]
  },
  {
   "cell_type": "code",
   "execution_count": 633,
   "metadata": {},
   "outputs": [
    {
     "data": {
      "text/plain": [
       "array([0.  , 0.04, 0.88, 0.88, 0.96, 0.96, 1.  , 1.  ])"
      ]
     },
     "execution_count": 633,
     "metadata": {},
     "output_type": "execute_result"
    }
   ],
   "source": [
    "tpr"
   ]
  },
  {
   "cell_type": "code",
   "execution_count": 634,
   "metadata": {},
   "outputs": [
    {
     "data": {
      "text/plain": [
       "array([1.98486495, 0.98486495, 0.36085919, 0.35399736, 0.351814  ,\n",
       "       0.26542352, 0.1985526 , 0.02729903])"
      ]
     },
     "execution_count": 634,
     "metadata": {},
     "output_type": "execute_result"
    }
   ],
   "source": [
    "thresholds"
   ]
  },
  {
   "cell_type": "code",
   "execution_count": 635,
   "metadata": {},
   "outputs": [
    {
     "data": {
      "image/png": "[encoded data removed]",
      "text/plain": [
       "<Figure size 432x288 with 1 Axes>"
      ]
     },
     "metadata": {
      "needs_background": "light"
     },
     "output_type": "display_data"
    },
    {
     "data": {
      "text/plain": [
       "0.9"
      ]
     },
     "execution_count": 635,
     "metadata": {},
     "output_type": "execute_result"
    }
   ],
   "source": [
    "plt.plot([0,1],[0,1],'k--')\n",
    "plt.plot(fpr,tpr,label='SVC')\n",
    "plt.xlabel('FPR')\n",
    "plt.ylabel('TPR')\n",
    "plt.title('SVC')\n",
    "plt.show()\n",
    "auc_score=roc_auc_score(ytest,svc.predict(xtest))\n",
    "auc_score"
   ]
  },
  {
   "cell_type": "code",
   "execution_count": 636,
   "metadata": {},
   "outputs": [
    {
     "name": "stdout",
     "output_type": "stream",
     "text": [
      "[0. 1. 1. 0. 1. 0. 1. 0. 1. 0. 1. 0. 1. 0. 0. 1. 1. 1. 0. 0. 0. 0. 1. 0.\n",
      " 0. 0. 1. 1. 0. 0. 0. 0. 1. 0. 0. 1. 0. 0. 0. 1. 0. 1. 1. 1. 0. 0.]\n"
     ]
    }
   ],
   "source": [
    "dtc.fit(xtrain,ytrain)\n",
    "predsvc=dtc.predict(xtest)\n",
    "y_pred_prob=dtc.predict_proba(xtest)[:,1]\n",
    "print(y_pred_prob)"
   ]
  },
  {
   "cell_type": "code",
   "execution_count": 637,
   "metadata": {},
   "outputs": [],
   "source": [
    "fpr,tpr,thresholds=roc_curve(ytest,y_pred_prob)"
   ]
  },
  {
   "cell_type": "code",
   "execution_count": 638,
   "metadata": {},
   "outputs": [
    {
     "data": {
      "text/plain": [
       "array([0.        , 0.23809524, 1.        ])"
      ]
     },
     "execution_count": 638,
     "metadata": {},
     "output_type": "execute_result"
    }
   ],
   "source": [
    "fpr"
   ]
  },
  {
   "cell_type": "code",
   "execution_count": 639,
   "metadata": {},
   "outputs": [
    {
     "data": {
      "text/plain": [
       "array([0.  , 0.56, 1.  ])"
      ]
     },
     "execution_count": 639,
     "metadata": {},
     "output_type": "execute_result"
    }
   ],
   "source": [
    "tpr"
   ]
  },
  {
   "cell_type": "code",
   "execution_count": 640,
   "metadata": {},
   "outputs": [
    {
     "data": {
      "text/plain": [
       "array([2., 1., 0.])"
      ]
     },
     "execution_count": 640,
     "metadata": {},
     "output_type": "execute_result"
    }
   ],
   "source": [
    "thresholds"
   ]
  },
  {
   "cell_type": "code",
   "execution_count": 641,
   "metadata": {},
   "outputs": [
    {
     "data": {
      "image/png": "[encoded data removed]",
      "text/plain": [
       "<Figure size 432x288 with 1 Axes>"
      ]
     },
     "metadata": {
      "needs_background": "light"
     },
     "output_type": "display_data"
    },
    {
     "data": {
      "text/plain": [
       "0.660952380952381"
      ]
     },
     "execution_count": 641,
     "metadata": {},
     "output_type": "execute_result"
    }
   ],
   "source": [
    "plt.plot([0,1],[0,1],'k--')\n",
    "plt.plot(fpr,tpr,label='DTC')\n",
    "plt.xlabel('FPR')\n",
    "plt.ylabel('TPR')\n",
    "plt.title('DTC')\n",
    "plt.show()\n",
    "auc_score=roc_auc_score(ytest,dtc.predict(xtest))\n",
    "auc_score"
   ]
  },
  {
   "cell_type": "code",
   "execution_count": 642,
   "metadata": {},
   "outputs": [
    {
     "data": {
      "text/plain": [
       "array([0, 1, 0, 0, 1, 0, 1, 0, 1, 0, 0, 0, 0, 0, 1, 1, 1, 0, 0, 0, 0, 1,\n",
       "       1, 0, 1, 1, 1, 1, 0, 0, 0, 0, 0, 0, 1, 1, 1, 0, 0, 1, 0, 1, 1, 1,\n",
       "       0, 0])"
      ]
     },
     "execution_count": 642,
     "metadata": {},
     "output_type": "execute_result"
    }
   ],
   "source": [
    "from sklearn.externals import joblib\n",
    "joblib.dump(svc,'svcfile.obj')\n",
    "svc_from_joblib=joblib.load('svcfile.obj')\n",
    "svc_from_joblib.predict(xtest)"
   ]
  },
  {
   "cell_type": "code",
   "execution_count": null,
   "metadata": {},
   "outputs": [],
   "source": []
  }
 ],
 "metadata": {
  "kernelspec": {
   "display_name": "Python 3",
   "language": "python",
   "name": "python3"
  },
  "language_info": {
   "codemirror_mode": {
    "name": "ipython",
    "version": 3
   },
   "file_extension": ".py",
   "mimetype": "text/x-python",
   "name": "python",
   "nbconvert_exporter": "python",
   "pygments_lexer": "ipython3",
   "version": "3.7.6"
  }
 },
 "nbformat": 4,
 "nbformat_minor": 4
}
